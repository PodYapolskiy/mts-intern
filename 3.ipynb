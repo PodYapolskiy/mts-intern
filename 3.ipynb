{
 "cells": [
  {
   "cell_type": "code",
   "execution_count": 14,
   "metadata": {},
   "outputs": [],
   "source": [
    "from pathlib import Path\n",
    "import speech_recognition as sr\n",
    "from pydub import AudioSegment\n",
    "\n",
    "\n",
    "def extract_text_from_audio(audio_file: Path) -> None:\n",
    "    # convert the MP3 file to a WAV file\n",
    "    audio_file = str(audio_file)\n",
    "    if audio_file.endswith(\".mp3\"):\n",
    "        wav_file = audio_file.replace(\".mp3\", \".wav\")\n",
    "        sound = AudioSegment.from_mp3(audio_file)\n",
    "        sound.export(wav_file, format=\"wav\")\n",
    "        audio_file = wav_file\n",
    "\n",
    "    # create a speech recognition object\n",
    "    r = sr.Recognizer()\n",
    "\n",
    "    # use the audio file as the source\n",
    "    with sr.AudioFile(audio_file) as source:\n",
    "        audio = r.record(source)\n",
    "\n",
    "    # try to recognize the speech in the audio\n",
    "    try:\n",
    "        # text = r.recognize_google(audio)\n",
    "        text = r.recognize_whisper(audio)\n",
    "        return text\n",
    "    except sr.UnknownValueError:\n",
    "        print(\"Speech recognition could not understand the audio\")\n",
    "        return None\n",
    "    except sr.RequestError as e:\n",
    "        print(\n",
    "            \"Could not request results from Google Speech Recognition service; {0}\".format(\n",
    "                e\n",
    "            )\n",
    "        )\n",
    "        return None"
   ]
  },
  {
   "cell_type": "code",
   "execution_count": 25,
   "metadata": {},
   "outputs": [],
   "source": [
    "import torch\n",
    "import whisper\n",
    "import warnings\n",
    "warnings.filterwarnings(\"ignore\")\n",
    "\n",
    "device = \"cuda\" if torch.cuda.is_available() else \"cpu\"\n",
    "device = \"cpu\"\n",
    "\n",
    "model = whisper.load_model(\"base\", device)"
   ]
  },
  {
   "cell_type": "code",
   "execution_count": 27,
   "metadata": {},
   "outputs": [
    {
     "name": "stdout",
     "output_type": "stream",
     "text": [
      " I want to get an internship at MTSC.\n",
      " I want to get an internship at MTS.\n",
      " Хочу пройти на стажировку ВМТС.\n",
      " Хочу пройти на стажировковим TS.\n"
     ]
    }
   ],
   "source": [
    "audio_path = Path(\"data/audio\")\n",
    "\n",
    "audio_file = audio_path / \"eng_ai.mp3\"\n",
    "text = model.transcribe(str(audio_file))['text']\n",
    "print(text)\n",
    "\n",
    "\n",
    "audio_file = audio_path / \"eng_reg.mp3\"\n",
    "text = model.transcribe(str(audio_file))['text']\n",
    "print(text)\n",
    "\n",
    "audio_file = audio_path / \"rus_reg.mp3\"\n",
    "text = model.transcribe(str(audio_file))['text']\n",
    "print(text)\n",
    "\n",
    "audio_file = audio_path / \"rus_ai.mp3\"\n",
    "text = model.transcribe(str(audio_file))['text']\n",
    "print(text)"
   ]
  }
 ],
 "metadata": {
  "kernelspec": {
   "display_name": "mts_env",
   "language": "python",
   "name": "python3"
  },
  "language_info": {
   "codemirror_mode": {
    "name": "ipython",
    "version": 3
   },
   "file_extension": ".py",
   "mimetype": "text/x-python",
   "name": "python",
   "nbconvert_exporter": "python",
   "pygments_lexer": "ipython3",
   "version": "3.12.3"
  }
 },
 "nbformat": 4,
 "nbformat_minor": 2
}
